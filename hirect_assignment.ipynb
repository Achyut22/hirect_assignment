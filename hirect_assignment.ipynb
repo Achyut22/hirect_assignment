{
  "nbformat": 4,
  "nbformat_minor": 0,
  "metadata": {
    "colab": {
      "provenance": []
    },
    "kernelspec": {
      "name": "python3",
      "display_name": "Python 3"
    },
    "language_info": {
      "name": "python"
    }
  },
  "cells": [
    {
      "cell_type": "code",
      "execution_count": 1,
      "metadata": {
        "colab": {
          "base_uri": "https://localhost:8080/"
        },
        "id": "-SqNqzUcIRGi",
        "outputId": "2974497a-bbef-4ec2-e36e-8a29aa38fe70"
      },
      "outputs": [
        {
          "output_type": "stream",
          "name": "stdout",
          "text": [
            "Stock Symbol: AAPL\n",
            "Average Daily Return: 0.0082\n",
            "Maximum Daily Return: 0.0083\n",
            "Minimum Daily Return: 0.0081\n",
            "Standard Deviation of Daily Returns: 0.0001\n",
            "----------------------------------------\n",
            "Stock Symbol: AMZN\n",
            "Average Daily Return: 0.0028\n",
            "Maximum Daily Return: 0.0040\n",
            "Minimum Daily Return: 0.0016\n",
            "Standard Deviation of Daily Returns: 0.0012\n",
            "----------------------------------------\n",
            "Stock Symbol: GOOGL\n",
            "Average Daily Return: 0.0040\n",
            "Maximum Daily Return: 0.0054\n",
            "Minimum Daily Return: 0.0028\n",
            "Standard Deviation of Daily Returns: 0.0013\n",
            "----------------------------------------\n"
          ]
        }
      ],
      "source": [
        "import pandas as pd\n",
        "\n",
        "file_path = 'stock_prices.csv'\n",
        "df = pd.read_csv(file_path)\n",
        "\n",
        "grouped = df.groupby('Stock Symbol')\n",
        "\n",
        "for stock_symbol, group in grouped:\n",
        "    print(f\"Stock Symbol: {stock_symbol}\")\n",
        "\n",
        "    # daily returns\n",
        "    group['Daily Return'] = (group['Close Price'] - group['Open Price']) / group['Open Price']\n",
        "\n",
        "    # average daily return\n",
        "    avg_return = group['Daily Return'].mean()\n",
        "    print(f\"Average Daily Return: {avg_return:.4f}\")\n",
        "\n",
        "    # maximum daily return\n",
        "    max_return = group['Daily Return'].max()\n",
        "    print(f\"Maximum Daily Return: {max_return:.4f}\")\n",
        "\n",
        "    # minimum daily return\n",
        "    min_return = group['Daily Return'].min()\n",
        "    print(f\"Minimum Daily Return: {min_return:.4f}\")\n",
        "\n",
        "    # standard deviation of daily returns\n",
        "    std_dev = group['Daily Return'].std()\n",
        "    print(f\"Standard Deviation of Daily Returns: {std_dev:.4f}\")\n",
        "\n",
        "    print('-' * 40)\n",
        "\n"
      ]
    }
  ]
}